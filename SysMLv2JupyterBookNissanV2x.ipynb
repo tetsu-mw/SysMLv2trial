{
 "cells": [
  {
   "cell_type": "code",
   "execution_count": 5,
   "id": "4236a8ad-6506-4cb9-aece-e99a32086e34",
   "metadata": {
    "tags": []
   },
   "outputs": [
    {
     "data": {
      "text/plain": [
       "Package NissanV2xSystemContext (77198493-011c-41a2-847f-fb6c538ebb51)\n"
      ]
     },
     "execution_count": 5,
     "metadata": {},
     "output_type": "execute_result"
    }
   ],
   "source": [
    "package NissanV2xSystemContext {\n",
    "        import Definitions::*;  \n",
    "        import ISQ::*;\n",
    "        package Definitions{\n",
    "            import partDefinitions::*;\n",
    "            package partDefinitions{\n",
    "                part def V2xEcosystem{\n",
    "                }\n",
    "                part def BEV{ \n",
    "                }\n",
    "                part def BiDirectionalCharger{\n",
    "                }\n",
    "                part def MobilePowerFeeder{\n",
    "                }\n",
    "                part def ElectricAppliances{\n",
    "                }\n",
    "                part def House{\n",
    "                }\n",
    "                part def SolarPower{\n",
    "                }\n",
    "                part def Building{\n",
    "                }\n",
    "                part def PowerGrid{\n",
    "                }\n",
    "            }\n",
    "\n",
    "    }\n",
    "}\n"
   ]
  },
  {
   "cell_type": "code",
   "execution_count": 6,
   "id": "78c2bbac-443a-44c1-9e6e-61275c3f0be1",
   "metadata": {
    "tags": []
   },
   "outputs": [
    {
     "data": {
      "image/svg+xml": [
       "<?xml version=\"1.0\" encoding=\"UTF-8\" standalone=\"no\"?><svg xmlns=\"http://www.w3.org/2000/svg\" xmlns:xlink=\"http://www.w3.org/1999/xlink\" contentStyleType=\"text/css\" height=\"463px\" preserveAspectRatio=\"none\" style=\"width:1391px;height:463px;background:#FFFFFF;\" version=\"1.1\" viewBox=\"0 0 1391 463\" width=\"1391px\" zoomAndPan=\"magnify\"><defs/><g><!--MD5=[fbc87193dbaf4d95561dea2c320d4a47]\n",
       "cluster E1--><g id=\"cluster_E1\"><a href=\"psysml:77198493-011c-41a2-847f-fb6c538ebb51\" target=\"_top\" title=\"psysml:77198493-011c-41a2-847f-fb6c538ebb51\" xlink:actuate=\"onRequest\" xlink:href=\"psysml:77198493-011c-41a2-847f-fb6c538ebb51\" xlink:show=\"new\" xlink:title=\"psysml:77198493-011c-41a2-847f-fb6c538ebb51\" xlink:type=\"simple\"><polygon fill=\"none\" points=\"16,6.532,199,6.532,206,32.8039,1374,32.8039,1374,456.972,16,456.972,16,6.532\" style=\"stroke:#000000;stroke-width:1.5;\"/><line style=\"stroke:#000000;stroke-width:1.5;\" x1=\"16\" x2=\"206\" y1=\"32.8039\" y2=\"32.8039\"/><text fill=\"#000000\" font-family=\"sans-serif\" font-size=\"14\" font-weight=\"bold\" lengthAdjust=\"spacing\" textLength=\"177\" x=\"20\" y=\"24.7719\">NissanV2xSystemContext</text></a></g><!--MD5=[e4f7fae6ed58524ba242bb0b0d3be6b7]\n",
       "cluster E2--><g id=\"cluster_E2\"><a href=\"psysml:4628fb2d-5016-41f4-9e3d-ba5d0cf70fcb\" target=\"_top\" title=\"psysml:4628fb2d-5016-41f4-9e3d-ba5d0cf70fcb\" xlink:actuate=\"onRequest\" xlink:href=\"psysml:4628fb2d-5016-41f4-9e3d-ba5d0cf70fcb\" xlink:show=\"new\" xlink:title=\"psysml:4628fb2d-5016-41f4-9e3d-ba5d0cf70fcb\" xlink:type=\"simple\"><polygon fill=\"none\" points=\"56,128.252,137,128.252,144,154.5239,1334,154.5239,1334,416.972,56,416.972,56,128.252\" style=\"stroke:#000000;stroke-width:1.5;\"/><line style=\"stroke:#000000;stroke-width:1.5;\" x1=\"56\" x2=\"144\" y1=\"154.5239\" y2=\"154.5239\"/><text fill=\"#000000\" font-family=\"sans-serif\" font-size=\"14\" font-weight=\"bold\" lengthAdjust=\"spacing\" textLength=\"75\" x=\"60\" y=\"146.4919\">Definitions</text></a></g><!--MD5=[d5e69f78d87373223dbae638b30a9c99]\n",
       "cluster E3--><g id=\"cluster_E3\"><a href=\"psysml:56a9c9e5-b4ca-464f-8a6a-33a2d03851f1\" target=\"_top\" title=\"psysml:56a9c9e5-b4ca-464f-8a6a-33a2d03851f1\" xlink:actuate=\"onRequest\" xlink:href=\"psysml:56a9c9e5-b4ca-464f-8a6a-33a2d03851f1\" xlink:show=\"new\" xlink:title=\"psysml:56a9c9e5-b4ca-464f-8a6a-33a2d03851f1\" xlink:type=\"simple\"><polygon fill=\"none\" points=\"96,249.972,206,249.972,213,276.2439,1294,276.2439,1294,376.972,96,376.972,96,249.972\" style=\"stroke:#000000;stroke-width:1.5;\"/><line style=\"stroke:#000000;stroke-width:1.5;\" x1=\"96\" x2=\"213\" y1=\"276.2439\" y2=\"276.2439\"/><text fill=\"#000000\" font-family=\"sans-serif\" font-size=\"14\" font-weight=\"bold\" lengthAdjust=\"spacing\" textLength=\"104\" x=\"100\" y=\"268.2119\">partDefinitions</text></a></g><!--MD5=[ebbe1d658d1005bcc118a6aa81145e00]\n",
       "class E4--><a href=\"psysml:562d7a8a-ce86-409c-91c6-8562b95fbf65\" target=\"_top\" title=\"psysml:562d7a8a-ce86-409c-91c6-8562b95fbf65\" xlink:actuate=\"onRequest\" xlink:href=\"psysml:562d7a8a-ce86-409c-91c6-8562b95fbf65\" xlink:show=\"new\" xlink:title=\"psysml:562d7a8a-ce86-409c-91c6-8562b95fbf65\" xlink:type=\"simple\"><g id=\"elem_E4\"><rect fill=\"#FFFFFF\" height=\"55.648\" id=\"E4\" style=\"stroke:#181818;stroke-width:0.5;\" width=\"99\" x=\"1170.5\" y=\"296.972\"/><text fill=\"#000000\" font-family=\"sans-serif\" font-size=\"12\" font-style=\"italic\" lengthAdjust=\"spacing\" textLength=\"60\" x=\"1190\" y=\"315.8921\">«part  def»</text><text fill=\"#000000\" font-family=\"sans-serif\" font-size=\"14\" lengthAdjust=\"spacing\" textLength=\"93\" x=\"1173.5\" y=\"335.588\">V2xEcosystem</text><line style=\"stroke:#181818;stroke-width:0.5;\" x1=\"1171.5\" x2=\"1268.5\" y1=\"344.62\" y2=\"344.62\"/></g></a><!--MD5=[270fce915f116d4de14055a7c1d9a0f3]\n",
       "class E5--><a href=\"psysml:b3aa049a-efb9-4897-b4dc-82c28669282c\" target=\"_top\" title=\"psysml:b3aa049a-efb9-4897-b4dc-82c28669282c\" xlink:actuate=\"onRequest\" xlink:href=\"psysml:b3aa049a-efb9-4897-b4dc-82c28669282c\" xlink:show=\"new\" xlink:title=\"psysml:b3aa049a-efb9-4897-b4dc-82c28669282c\" xlink:type=\"simple\"><g id=\"elem_E5\"><rect fill=\"#FFFFFF\" height=\"55.648\" id=\"E5\" style=\"stroke:#181818;stroke-width:0.5;\" width=\"62\" x=\"1073\" y=\"296.972\"/><text fill=\"#000000\" font-family=\"sans-serif\" font-size=\"12\" font-style=\"italic\" lengthAdjust=\"spacing\" textLength=\"60\" x=\"1074\" y=\"315.8921\">«part  def»</text><text fill=\"#000000\" font-family=\"sans-serif\" font-size=\"14\" lengthAdjust=\"spacing\" textLength=\"25\" x=\"1091.5\" y=\"335.588\">BEV</text><line style=\"stroke:#181818;stroke-width:0.5;\" x1=\"1074\" x2=\"1134\" y1=\"344.62\" y2=\"344.62\"/></g></a><!--MD5=[60a26617385b1d2d0262a64233df1f8d]\n",
       "class E6--><a href=\"psysml:f1ac7d0c-9aa0-4fb4-b4b6-416e2d6a60a7\" target=\"_top\" title=\"psysml:f1ac7d0c-9aa0-4fb4-b4b6-416e2d6a60a7\" xlink:actuate=\"onRequest\" xlink:href=\"psysml:f1ac7d0c-9aa0-4fb4-b4b6-416e2d6a60a7\" xlink:show=\"new\" xlink:title=\"psysml:f1ac7d0c-9aa0-4fb4-b4b6-416e2d6a60a7\" xlink:type=\"simple\"><g id=\"elem_E6\"><rect fill=\"#FFFFFF\" height=\"55.648\" id=\"E6\" style=\"stroke:#181818;stroke-width:0.5;\" width=\"143\" x=\"894.5\" y=\"296.972\"/><text fill=\"#000000\" font-family=\"sans-serif\" font-size=\"12\" font-style=\"italic\" lengthAdjust=\"spacing\" textLength=\"60\" x=\"936\" y=\"315.8921\">«part  def»</text><text fill=\"#000000\" font-family=\"sans-serif\" font-size=\"14\" lengthAdjust=\"spacing\" textLength=\"137\" x=\"897.5\" y=\"335.588\">BiDirectionalCharger</text><line style=\"stroke:#181818;stroke-width:0.5;\" x1=\"895.5\" x2=\"1036.5\" y1=\"344.62\" y2=\"344.62\"/></g></a><!--MD5=[2156ba9850f5573cc1fc38a6a4b2f02b]\n",
       "class E7--><a href=\"psysml:0b452833-29d5-4f5d-973a-c3d28aa545f0\" target=\"_top\" title=\"psysml:0b452833-29d5-4f5d-973a-c3d28aa545f0\" xlink:actuate=\"onRequest\" xlink:href=\"psysml:0b452833-29d5-4f5d-973a-c3d28aa545f0\" xlink:show=\"new\" xlink:title=\"psysml:0b452833-29d5-4f5d-973a-c3d28aa545f0\" xlink:type=\"simple\"><g id=\"elem_E7\"><rect fill=\"#FFFFFF\" height=\"55.648\" id=\"E7\" style=\"stroke:#181818;stroke-width:0.5;\" width=\"137\" x=\"722.5\" y=\"296.972\"/><text fill=\"#000000\" font-family=\"sans-serif\" font-size=\"12\" font-style=\"italic\" lengthAdjust=\"spacing\" textLength=\"60\" x=\"761\" y=\"315.8921\">«part  def»</text><text fill=\"#000000\" font-family=\"sans-serif\" font-size=\"14\" lengthAdjust=\"spacing\" textLength=\"131\" x=\"725.5\" y=\"335.588\">MobilePowerFeeder</text><line style=\"stroke:#181818;stroke-width:0.5;\" x1=\"723.5\" x2=\"858.5\" y1=\"344.62\" y2=\"344.62\"/></g></a><!--MD5=[b9389687b975829384b498ac4b7476b2]\n",
       "class E8--><a href=\"psysml:19f944c1-297c-4f0a-b9bb-d7ec4c881817\" target=\"_top\" title=\"psysml:19f944c1-297c-4f0a-b9bb-d7ec4c881817\" xlink:actuate=\"onRequest\" xlink:href=\"psysml:19f944c1-297c-4f0a-b9bb-d7ec4c881817\" xlink:show=\"new\" xlink:title=\"psysml:19f944c1-297c-4f0a-b9bb-d7ec4c881817\" xlink:type=\"simple\"><g id=\"elem_E8\"><rect fill=\"#FFFFFF\" height=\"55.648\" id=\"E8\" style=\"stroke:#181818;stroke-width:0.5;\" width=\"128\" x=\"559\" y=\"296.972\"/><text fill=\"#000000\" font-family=\"sans-serif\" font-size=\"12\" font-style=\"italic\" lengthAdjust=\"spacing\" textLength=\"60\" x=\"593\" y=\"315.8921\">«part  def»</text><text fill=\"#000000\" font-family=\"sans-serif\" font-size=\"14\" lengthAdjust=\"spacing\" textLength=\"122\" x=\"562\" y=\"335.588\">ElectricAppliances</text><line style=\"stroke:#181818;stroke-width:0.5;\" x1=\"560\" x2=\"686\" y1=\"344.62\" y2=\"344.62\"/></g></a><!--MD5=[fd4143e9d270a159db93a4ea2a975926]\n",
       "class E9--><a href=\"psysml:51624a47-2d13-4818-b68c-358f9038a3fa\" target=\"_top\" title=\"psysml:51624a47-2d13-4818-b68c-358f9038a3fa\" xlink:actuate=\"onRequest\" xlink:href=\"psysml:51624a47-2d13-4818-b68c-358f9038a3fa\" xlink:show=\"new\" xlink:title=\"psysml:51624a47-2d13-4818-b68c-358f9038a3fa\" xlink:type=\"simple\"><g id=\"elem_E9\"><rect fill=\"#FFFFFF\" height=\"55.648\" id=\"E9\" style=\"stroke:#181818;stroke-width:0.5;\" width=\"62\" x=\"462\" y=\"296.972\"/><text fill=\"#000000\" font-family=\"sans-serif\" font-size=\"12\" font-style=\"italic\" lengthAdjust=\"spacing\" textLength=\"60\" x=\"463\" y=\"315.8921\">«part  def»</text><text fill=\"#000000\" font-family=\"sans-serif\" font-size=\"14\" lengthAdjust=\"spacing\" textLength=\"42\" x=\"472\" y=\"335.588\">House</text><line style=\"stroke:#181818;stroke-width:0.5;\" x1=\"463\" x2=\"523\" y1=\"344.62\" y2=\"344.62\"/></g></a><!--MD5=[96f4274e9e20536e775497830990834d]\n",
       "class E10--><a href=\"psysml:3a5b74ad-66bc-4aa5-b2d6-458bbfc91625\" target=\"_top\" title=\"psysml:3a5b74ad-66bc-4aa5-b2d6-458bbfc91625\" xlink:actuate=\"onRequest\" xlink:href=\"psysml:3a5b74ad-66bc-4aa5-b2d6-458bbfc91625\" xlink:show=\"new\" xlink:title=\"psysml:3a5b74ad-66bc-4aa5-b2d6-458bbfc91625\" xlink:type=\"simple\"><g id=\"elem_E10\"><rect fill=\"#FFFFFF\" height=\"55.648\" id=\"E10\" style=\"stroke:#181818;stroke-width:0.5;\" width=\"80\" x=\"347\" y=\"296.972\"/><text fill=\"#000000\" font-family=\"sans-serif\" font-size=\"12\" font-style=\"italic\" lengthAdjust=\"spacing\" textLength=\"60\" x=\"357\" y=\"315.8921\">«part  def»</text><text fill=\"#000000\" font-family=\"sans-serif\" font-size=\"14\" lengthAdjust=\"spacing\" textLength=\"74\" x=\"350\" y=\"335.588\">SolarPower</text><line style=\"stroke:#181818;stroke-width:0.5;\" x1=\"348\" x2=\"426\" y1=\"344.62\" y2=\"344.62\"/></g></a><!--MD5=[1dd1bfd58a279cf63c5f349dbc8fc6a1]\n",
       "class E11--><a href=\"psysml:0b4ff63c-1f88-4b8b-8d58-bb05b7a75a53\" target=\"_top\" title=\"psysml:0b4ff63c-1f88-4b8b-8d58-bb05b7a75a53\" xlink:actuate=\"onRequest\" xlink:href=\"psysml:0b4ff63c-1f88-4b8b-8d58-bb05b7a75a53\" xlink:show=\"new\" xlink:title=\"psysml:0b4ff63c-1f88-4b8b-8d58-bb05b7a75a53\" xlink:type=\"simple\"><g id=\"elem_E11\"><rect fill=\"#FFFFFF\" height=\"55.648\" id=\"E11\" style=\"stroke:#181818;stroke-width:0.5;\" width=\"62\" x=\"250\" y=\"296.972\"/><text fill=\"#000000\" font-family=\"sans-serif\" font-size=\"12\" font-style=\"italic\" lengthAdjust=\"spacing\" textLength=\"60\" x=\"251\" y=\"315.8921\">«part  def»</text><text fill=\"#000000\" font-family=\"sans-serif\" font-size=\"14\" lengthAdjust=\"spacing\" textLength=\"56\" x=\"253\" y=\"335.588\">Building</text><line style=\"stroke:#181818;stroke-width:0.5;\" x1=\"251\" x2=\"311\" y1=\"344.62\" y2=\"344.62\"/></g></a><!--MD5=[49a0ec8f00dab7302a31f22d0f0fe584]\n",
       "class E12--><a href=\"psysml:a6dd4a0d-0fa0-4aa5-a84c-ff50d289d23e\" target=\"_top\" title=\"psysml:a6dd4a0d-0fa0-4aa5-a84c-ff50d289d23e\" xlink:actuate=\"onRequest\" xlink:href=\"psysml:a6dd4a0d-0fa0-4aa5-a84c-ff50d289d23e\" xlink:show=\"new\" xlink:title=\"psysml:a6dd4a0d-0fa0-4aa5-a84c-ff50d289d23e\" xlink:type=\"simple\"><g id=\"elem_E12\"><rect fill=\"#FFFFFF\" height=\"55.648\" id=\"E12\" style=\"stroke:#181818;stroke-width:0.5;\" width=\"75\" x=\"139.5\" y=\"296.972\"/><text fill=\"#000000\" font-family=\"sans-serif\" font-size=\"12\" font-style=\"italic\" lengthAdjust=\"spacing\" textLength=\"60\" x=\"147\" y=\"315.8921\">«part  def»</text><text fill=\"#000000\" font-family=\"sans-serif\" font-size=\"14\" lengthAdjust=\"spacing\" textLength=\"69\" x=\"142.5\" y=\"335.588\">PowerGrid</text><line style=\"stroke:#181818;stroke-width:0.5;\" x1=\"140.5\" x2=\"213.5\" y1=\"344.62\" y2=\"344.62\"/></g></a><!--MD5=[1f1cd8e6dd4c1b2ca2aaccc9b9bcea6e]\n",
       "link E1 to E2--><g id=\"link_E1_E2\"><a href=\"psysml:d1c46d43-40e6-4a32-8743-ee0ecd93c711\" target=\"_top\" title=\"psysml:d1c46d43-40e6-4a32-8743-ee0ecd93c711\" xlink:actuate=\"onRequest\" xlink:href=\"psysml:d1c46d43-40e6-4a32-8743-ee0ecd93c711\" xlink:show=\"new\" xlink:title=\"psysml:d1c46d43-40e6-4a32-8743-ee0ecd93c711\" xlink:type=\"simple\"><path d=\"M104,38.342 C104,40.132 104,69.2945 104,98.452 C104,105.7414 104,113.0304 104,119.8914 C104,121.6066 104,123.2951 104,124.9502 C104,125.7777 104,126.5969 104,127.4068 C104,127.6093 104,127.8112 104,128.0126 \" fill=\"none\" id=\"E1-to-E2\" style=\"stroke:#181818;stroke-width:1.0;stroke-dasharray:7.0,7.0;\"/><polygon fill=\"#181818\" points=\"104,128.0126,108,119.0126,104,123.0126,100,119.0126,104,128.0126\" style=\"stroke:#181818;stroke-width:1.0;\"/><text fill=\"#000000\" font-family=\"sans-serif\" font-size=\"13\" lengthAdjust=\"spacing\" textLength=\"60\" x=\"105\" y=\"84.332\">«import»*</text></a></g><!--MD5=[2720a5a1f2c3fca2055b230370638851]\n",
       "link E2 to E3--><g id=\"link_E2_E3\"><a href=\"psysml:fb1f7a30-679f-46a5-8f60-ec50a31afcda\" target=\"_top\" title=\"psysml:fb1f7a30-679f-46a5-8f60-ec50a31afcda\" xlink:actuate=\"onRequest\" xlink:href=\"psysml:fb1f7a30-679f-46a5-8f60-ec50a31afcda\" xlink:show=\"new\" xlink:title=\"psysml:fb1f7a30-679f-46a5-8f60-ec50a31afcda\" xlink:type=\"simple\"><path d=\"M104,160.092 C104,162.537 104,202.2745 104,242.002 C104,244.485 104,246.9679 104,249.4417 \" fill=\"none\" id=\"E2-to-E3\" style=\"stroke:#181818;stroke-width:1.0;stroke-dasharray:7.0,7.0;\"/><polygon fill=\"#181818\" points=\"104,249.4417,108,240.4417,104,244.4417,100,240.4417,104,249.4417\" style=\"stroke:#181818;stroke-width:1.0;\"/><text fill=\"#000000\" font-family=\"sans-serif\" font-size=\"13\" lengthAdjust=\"spacing\" textLength=\"60\" x=\"105\" y=\"206.052\">«import»*</text></a></g><!--MD5=[dcddebd79dca212a52116205e41f7384]\n",
       "@startuml\r\n",
       "skin sysmlbw\r\n",
       "skinparam monochrome true\r\n",
       "skinparam wrapWidth 300\r\n",
       "hide circle\r\n",
       "\r\n",
       "package \"NissanV2xSystemContext\" as E1  [[psysml:77198493-011c-41a2-847f-fb6c538ebb51 ]]  {\r\n",
       "package \"Definitions\" as E2  [[psysml:4628fb2d-5016-41f4-9e3d-ba5d0cf70fcb ]]  {\r\n",
       "package \"partDefinitions\" as E3  [[psysml:56a9c9e5-b4ca-464f-8a6a-33a2d03851f1 ]]  {\r\n",
       "comp def \"V2xEcosystem\" as E4  <<(T,blue) part  def>> [[psysml:562d7a8a-ce86-409c-91c6-8562b95fbf65 ]] {\r\n",
       "}\r\n",
       "comp def \"BEV\" as E5  <<(T,blue) part  def>> [[psysml:b3aa049a-efb9-4897-b4dc-82c28669282c ]] {\r\n",
       "}\r\n",
       "comp def \"BiDirectionalCharger\" as E6  <<(T,blue) part  def>> [[psysml:f1ac7d0c-9aa0-4fb4-b4b6-416e2d6a60a7 ]] {\r\n",
       "}\r\n",
       "comp def \"MobilePowerFeeder\" as E7  <<(T,blue) part  def>> [[psysml:0b452833-29d5-4f5d-973a-c3d28aa545f0 ]] {\r\n",
       "}\r\n",
       "comp def \"ElectricAppliances\" as E8  <<(T,blue) part  def>> [[psysml:19f944c1-297c-4f0a-b9bb-d7ec4c881817 ]] {\r\n",
       "}\r\n",
       "comp def \"House\" as E9  <<(T,blue) part  def>> [[psysml:51624a47-2d13-4818-b68c-358f9038a3fa ]] {\r\n",
       "}\r\n",
       "comp def \"SolarPower\" as E10  <<(T,blue) part  def>> [[psysml:3a5b74ad-66bc-4aa5-b2d6-458bbfc91625 ]] {\r\n",
       "}\r\n",
       "comp def \"Building\" as E11  <<(T,blue) part  def>> [[psysml:0b4ff63c-1f88-4b8b-8d58-bb05b7a75a53 ]] {\r\n",
       "}\r\n",
       "comp def \"PowerGrid\" as E12  <<(T,blue) part  def>> [[psysml:a6dd4a0d-0fa0-4aa5-a84c-ff50d289d23e ]] {\r\n",
       "}\r\n",
       "}\r\n",
       "}\r\n",
       "}\r\n",
       "E1 ..> E2 [[psysml:d1c46d43-40e6-4a32-8743-ee0ecd93c711 ]] : <<import>>*\r\n",
       "E2 ..> E3 [[psysml:fb1f7a30-679f-46a5-8f60-ec50a31afcda ]] : <<import>>*\r\n",
       "@enduml\r\n",
       "\n",
       "PlantUML version 1.2022.7(Tue Aug 23 02:01:30 JST 2022)\n",
       "(EPL source distribution)\n",
       "Java Runtime: OpenJDK Runtime Environment\n",
       "JVM: OpenJDK 64-Bit Server VM\n",
       "Default Encoding: UTF-8\n",
       "Language: ja\n",
       "Country: JP\n",
       "--></g></svg>"
      ]
     },
     "execution_count": 6,
     "metadata": {},
     "output_type": "execute_result"
    }
   ],
   "source": [
    "%viz NissanV2xSystemContext"
   ]
  },
  {
   "cell_type": "code",
   "execution_count": null,
   "id": "92000f47-19fc-4de1-bf38-2b33c0404979",
   "metadata": {},
   "outputs": [],
   "source": []
  }
 ],
 "metadata": {
  "kernelspec": {
   "display_name": "SysML",
   "language": "sysml",
   "name": "sysml"
  },
  "language_info": {
   "codemirror_mode": "sysml",
   "file_extension": ".sysml",
   "mimetype": "text/x-sysml",
   "name": "SysML",
   "pygments_lexer": "java",
   "version": "1.0.0"
  }
 },
 "nbformat": 4,
 "nbformat_minor": 5
}
